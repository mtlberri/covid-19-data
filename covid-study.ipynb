{
 "cells": [
  {
   "cell_type": "markdown",
   "metadata": {},
   "source": [
    "# Study of COVID data in the US (based on NYT data)"
   ]
  },
  {
   "cell_type": "code",
   "execution_count": 614,
   "metadata": {},
   "outputs": [],
   "source": [
    "import pandas as pd\n",
    "import numpy as np\n",
    "import matplotlib\n",
    "import datetime\n",
    "from matplotlib import pyplot as plt\n",
    "from matplotlib.dates import DateFormatter, WeekdayLocator, DayLocator, MONDAY\n",
    "from matplotlib.ticker import FuncFormatter\n",
    "%matplotlib inline\n",
    "import seaborn as sns\n",
    "sns.set()\n",
    "import time"
   ]
  },
  {
   "cell_type": "code",
   "execution_count": 210,
   "metadata": {},
   "outputs": [],
   "source": [
    "# matplotlib.style.use('seaborn-whitegrid')"
   ]
  },
  {
   "cell_type": "markdown",
   "metadata": {},
   "source": [
    "## Get NYT data and prepare it"
   ]
  },
  {
   "cell_type": "code",
   "execution_count": 211,
   "metadata": {
    "scrolled": true
   },
   "outputs": [],
   "source": [
    "# Read from NYT data CSV\n",
    "df_ = pd.read_csv('us-states.csv')"
   ]
  },
  {
   "cell_type": "code",
   "execution_count": 212,
   "metadata": {
    "scrolled": true
   },
   "outputs": [
    {
     "data": {
      "text/html": [
       "<div>\n",
       "<style scoped>\n",
       "    .dataframe tbody tr th:only-of-type {\n",
       "        vertical-align: middle;\n",
       "    }\n",
       "\n",
       "    .dataframe tbody tr th {\n",
       "        vertical-align: top;\n",
       "    }\n",
       "\n",
       "    .dataframe thead th {\n",
       "        text-align: right;\n",
       "    }\n",
       "</style>\n",
       "<table border=\"1\" class=\"dataframe\">\n",
       "  <thead>\n",
       "    <tr style=\"text-align: right;\">\n",
       "      <th></th>\n",
       "      <th>date</th>\n",
       "      <th>state</th>\n",
       "      <th>fips</th>\n",
       "      <th>cases</th>\n",
       "      <th>deaths</th>\n",
       "    </tr>\n",
       "  </thead>\n",
       "  <tbody>\n",
       "    <tr>\n",
       "      <th>0</th>\n",
       "      <td>2020-01-21</td>\n",
       "      <td>Washington</td>\n",
       "      <td>53</td>\n",
       "      <td>1</td>\n",
       "      <td>0</td>\n",
       "    </tr>\n",
       "    <tr>\n",
       "      <th>1</th>\n",
       "      <td>2020-01-22</td>\n",
       "      <td>Washington</td>\n",
       "      <td>53</td>\n",
       "      <td>1</td>\n",
       "      <td>0</td>\n",
       "    </tr>\n",
       "    <tr>\n",
       "      <th>2</th>\n",
       "      <td>2020-01-23</td>\n",
       "      <td>Washington</td>\n",
       "      <td>53</td>\n",
       "      <td>1</td>\n",
       "      <td>0</td>\n",
       "    </tr>\n",
       "    <tr>\n",
       "      <th>3</th>\n",
       "      <td>2020-01-24</td>\n",
       "      <td>Illinois</td>\n",
       "      <td>17</td>\n",
       "      <td>1</td>\n",
       "      <td>0</td>\n",
       "    </tr>\n",
       "    <tr>\n",
       "      <th>4</th>\n",
       "      <td>2020-01-24</td>\n",
       "      <td>Washington</td>\n",
       "      <td>53</td>\n",
       "      <td>1</td>\n",
       "      <td>0</td>\n",
       "    </tr>\n",
       "  </tbody>\n",
       "</table>\n",
       "</div>"
      ],
      "text/plain": [
       "        date       state  fips  cases  deaths\n",
       "0 2020-01-21  Washington    53      1       0\n",
       "1 2020-01-22  Washington    53      1       0\n",
       "2 2020-01-23  Washington    53      1       0\n",
       "3 2020-01-24    Illinois    17      1       0\n",
       "4 2020-01-24  Washington    53      1       0"
      ]
     },
     "execution_count": 212,
     "metadata": {},
     "output_type": "execute_result"
    }
   ],
   "source": [
    "# Make date string a proper datetime data type\n",
    "df_['date']=df_['date'].apply(lambda x:pd.Timestamp(x))\n",
    "# Maje it a time series\n",
    "# df_.set_index('date',inplace=True)\n",
    "df_.head()"
   ]
  },
  {
   "cell_type": "code",
   "execution_count": 213,
   "metadata": {},
   "outputs": [
    {
     "data": {
      "text/html": [
       "<div>\n",
       "<style scoped>\n",
       "    .dataframe tbody tr th:only-of-type {\n",
       "        vertical-align: middle;\n",
       "    }\n",
       "\n",
       "    .dataframe tbody tr th {\n",
       "        vertical-align: top;\n",
       "    }\n",
       "\n",
       "    .dataframe thead th {\n",
       "        text-align: right;\n",
       "    }\n",
       "</style>\n",
       "<table border=\"1\" class=\"dataframe\">\n",
       "  <thead>\n",
       "    <tr style=\"text-align: right;\">\n",
       "      <th></th>\n",
       "      <th>date</th>\n",
       "      <th>state</th>\n",
       "      <th>fips</th>\n",
       "      <th>cases</th>\n",
       "      <th>deaths</th>\n",
       "      <th>Abbreviation</th>\n",
       "      <th>Postal Code</th>\n",
       "    </tr>\n",
       "  </thead>\n",
       "  <tbody>\n",
       "    <tr>\n",
       "      <th>0</th>\n",
       "      <td>2020-01-21</td>\n",
       "      <td>Washington</td>\n",
       "      <td>53</td>\n",
       "      <td>1</td>\n",
       "      <td>0</td>\n",
       "      <td>Wash.</td>\n",
       "      <td>WA</td>\n",
       "    </tr>\n",
       "    <tr>\n",
       "      <th>1</th>\n",
       "      <td>2020-01-22</td>\n",
       "      <td>Washington</td>\n",
       "      <td>53</td>\n",
       "      <td>1</td>\n",
       "      <td>0</td>\n",
       "      <td>Wash.</td>\n",
       "      <td>WA</td>\n",
       "    </tr>\n",
       "    <tr>\n",
       "      <th>2</th>\n",
       "      <td>2020-01-23</td>\n",
       "      <td>Washington</td>\n",
       "      <td>53</td>\n",
       "      <td>1</td>\n",
       "      <td>0</td>\n",
       "      <td>Wash.</td>\n",
       "      <td>WA</td>\n",
       "    </tr>\n",
       "    <tr>\n",
       "      <th>3</th>\n",
       "      <td>2020-01-24</td>\n",
       "      <td>Washington</td>\n",
       "      <td>53</td>\n",
       "      <td>1</td>\n",
       "      <td>0</td>\n",
       "      <td>Wash.</td>\n",
       "      <td>WA</td>\n",
       "    </tr>\n",
       "    <tr>\n",
       "      <th>4</th>\n",
       "      <td>2020-01-25</td>\n",
       "      <td>Washington</td>\n",
       "      <td>53</td>\n",
       "      <td>1</td>\n",
       "      <td>0</td>\n",
       "      <td>Wash.</td>\n",
       "      <td>WA</td>\n",
       "    </tr>\n",
       "  </tbody>\n",
       "</table>\n",
       "</div>"
      ],
      "text/plain": [
       "        date       state  fips  cases  deaths Abbreviation Postal Code\n",
       "0 2020-01-21  Washington    53      1       0        Wash.          WA\n",
       "1 2020-01-22  Washington    53      1       0        Wash.          WA\n",
       "2 2020-01-23  Washington    53      1       0        Wash.          WA\n",
       "3 2020-01-24  Washington    53      1       0        Wash.          WA\n",
       "4 2020-01-25  Washington    53      1       0        Wash.          WA"
      ]
     },
     "execution_count": 213,
     "metadata": {},
     "output_type": "execute_result"
    }
   ],
   "source": [
    "# Add states abbreviations\n",
    "df_abb = pd.read_csv('other_input/us-states-abbreviations.csv')\n",
    "df = pd.merge(left=df_, right=df_abb, on='state', how='outer')\n",
    "df.head()"
   ]
  },
  {
   "cell_type": "code",
   "execution_count": 214,
   "metadata": {},
   "outputs": [
    {
     "data": {
      "text/plain": [
       "Timestamp('2020-07-28 00:00:00')"
      ]
     },
     "execution_count": 214,
     "metadata": {},
     "output_type": "execute_result"
    }
   ],
   "source": [
    "last_date = df.date.max()\n",
    "last_date"
   ]
  },
  {
   "cell_type": "markdown",
   "metadata": {},
   "source": [
    "## States ranked by number of cases"
   ]
  },
  {
   "cell_type": "code",
   "execution_count": 215,
   "metadata": {},
   "outputs": [
    {
     "data": {
      "text/html": [
       "<div>\n",
       "<style scoped>\n",
       "    .dataframe tbody tr th:only-of-type {\n",
       "        vertical-align: middle;\n",
       "    }\n",
       "\n",
       "    .dataframe tbody tr th {\n",
       "        vertical-align: top;\n",
       "    }\n",
       "\n",
       "    .dataframe thead th {\n",
       "        text-align: right;\n",
       "    }\n",
       "</style>\n",
       "<table border=\"1\" class=\"dataframe\">\n",
       "  <thead>\n",
       "    <tr style=\"text-align: right;\">\n",
       "      <th></th>\n",
       "      <th>date</th>\n",
       "      <th>state</th>\n",
       "      <th>fips</th>\n",
       "      <th>cases</th>\n",
       "      <th>deaths</th>\n",
       "      <th>Abbreviation</th>\n",
       "      <th>Postal Code</th>\n",
       "    </tr>\n",
       "  </thead>\n",
       "  <tbody>\n",
       "    <tr>\n",
       "      <th>562</th>\n",
       "      <td>2020-07-28</td>\n",
       "      <td>California</td>\n",
       "      <td>6</td>\n",
       "      <td>474951</td>\n",
       "      <td>8716</td>\n",
       "      <td>Calif.</td>\n",
       "      <td>CA</td>\n",
       "    </tr>\n",
       "    <tr>\n",
       "      <th>1889</th>\n",
       "      <td>2020-07-28</td>\n",
       "      <td>Florida</td>\n",
       "      <td>12</td>\n",
       "      <td>441969</td>\n",
       "      <td>6116</td>\n",
       "      <td>Fla.</td>\n",
       "      <td>FL</td>\n",
       "    </tr>\n",
       "    <tr>\n",
       "      <th>2039</th>\n",
       "      <td>2020-07-28</td>\n",
       "      <td>New York</td>\n",
       "      <td>36</td>\n",
       "      <td>417591</td>\n",
       "      <td>32333</td>\n",
       "      <td>N.Y.</td>\n",
       "      <td>NY</td>\n",
       "    </tr>\n",
       "    <tr>\n",
       "      <th>1269</th>\n",
       "      <td>2020-07-28</td>\n",
       "      <td>Texas</td>\n",
       "      <td>48</td>\n",
       "      <td>412744</td>\n",
       "      <td>6515</td>\n",
       "      <td>Tex.</td>\n",
       "      <td>TX</td>\n",
       "    </tr>\n",
       "    <tr>\n",
       "      <th>2782</th>\n",
       "      <td>2020-07-28</td>\n",
       "      <td>New Jersey</td>\n",
       "      <td>34</td>\n",
       "      <td>182215</td>\n",
       "      <td>15825</td>\n",
       "      <td>N.J.</td>\n",
       "      <td>NJ</td>\n",
       "    </tr>\n",
       "  </tbody>\n",
       "</table>\n",
       "</div>"
      ],
      "text/plain": [
       "           date       state  fips   cases  deaths Abbreviation Postal Code\n",
       "562  2020-07-28  California     6  474951    8716       Calif.          CA\n",
       "1889 2020-07-28     Florida    12  441969    6116         Fla.          FL\n",
       "2039 2020-07-28    New York    36  417591   32333         N.Y.          NY\n",
       "1269 2020-07-28       Texas    48  412744    6515         Tex.          TX\n",
       "2782 2020-07-28  New Jersey    34  182215   15825         N.J.          NJ"
      ]
     },
     "execution_count": 215,
     "metadata": {},
     "output_type": "execute_result"
    }
   ],
   "source": [
    "# States with most cases (on last available date)\n",
    "df_ti = df[df['date'] == last_date].sort_values(by='cases', ascending=False)\n",
    "# df_ti.set_index('date', inplace=True, drop=False)\n",
    "df_ti.head()"
   ]
  },
  {
   "cell_type": "code",
   "execution_count": 216,
   "metadata": {},
   "outputs": [
    {
     "data": {
      "text/plain": [
       "Text(0.5, 1.0, 'Total number of cases per State (on July 28, 2020)')"
      ]
     },
     "execution_count": 216,
     "metadata": {},
     "output_type": "execute_result"
    },
    {
     "data": {
      "image/png": "[encoded data removed]",
      "text/plain": [
       "<Figure size 864x576 with 1 Axes>"
      ]
     },
     "metadata": {},
     "output_type": "display_data"
    }
   ],
   "source": [
    "# Plot the States ranked by number of cases\n",
    "fig, ax = plt.subplots(figsize=(12, 8))\n",
    "number_of_states_to_visualize = 20\n",
    "df_ti_p = df_ti.head(number_of_states_to_visualize).copy()\n",
    "x = df_ti_p['Abbreviation']\n",
    "y = df_ti_p['cases']\n",
    "# bar_container = ax.bar(x=x, height=y)\n",
    "sns.barplot(x=x, y=y, palette='Reds_r', ax=ax)\n",
    "ax.get_yaxis().set_major_formatter(FuncFormatter(lambda x,p: format(int(x),',')))\n",
    "ax.get_xaxis().label.set_visible(False)\n",
    "ax.get_yaxis().label.set_visible(False)\n",
    "ax.set_title(f'Total number of cases per State (on {last_date.strftime(\"%B %d, %Y\")})')"
   ]
  },
  {
   "cell_type": "code",
   "execution_count": 217,
   "metadata": {},
   "outputs": [],
   "source": [
    "# fig.savefig(f'output_visuals/Total_number_of_Cases_{last_date.strftime(\"%B_%d_%Y\")}.png')"
   ]
  },
  {
   "cell_type": "markdown",
   "metadata": {},
   "source": [
    "## Evolution of number of cases per state"
   ]
  },
  {
   "cell_type": "code",
   "execution_count": 265,
   "metadata": {},
   "outputs": [
    {
     "data": {
      "text/html": [
       "<div>\n",
       "<style scoped>\n",
       "    .dataframe tbody tr th:only-of-type {\n",
       "        vertical-align: middle;\n",
       "    }\n",
       "\n",
       "    .dataframe tbody tr th {\n",
       "        vertical-align: top;\n",
       "    }\n",
       "\n",
       "    .dataframe thead th {\n",
       "        text-align: right;\n",
       "    }\n",
       "</style>\n",
       "<table border=\"1\" class=\"dataframe\">\n",
       "  <thead>\n",
       "    <tr style=\"text-align: right;\">\n",
       "      <th></th>\n",
       "      <th>date</th>\n",
       "      <th>state</th>\n",
       "      <th>fips</th>\n",
       "      <th>cases</th>\n",
       "      <th>deaths</th>\n",
       "      <th>Abbreviation</th>\n",
       "      <th>Postal Code</th>\n",
       "    </tr>\n",
       "  </thead>\n",
       "  <tbody>\n",
       "    <tr>\n",
       "      <th>2778</th>\n",
       "      <td>2020-07-24</td>\n",
       "      <td>New Jersey</td>\n",
       "      <td>34</td>\n",
       "      <td>180265</td>\n",
       "      <td>15765</td>\n",
       "      <td>N.J.</td>\n",
       "      <td>NJ</td>\n",
       "    </tr>\n",
       "    <tr>\n",
       "      <th>2779</th>\n",
       "      <td>2020-07-25</td>\n",
       "      <td>New Jersey</td>\n",
       "      <td>34</td>\n",
       "      <td>180778</td>\n",
       "      <td>15776</td>\n",
       "      <td>N.J.</td>\n",
       "      <td>NJ</td>\n",
       "    </tr>\n",
       "    <tr>\n",
       "      <th>2780</th>\n",
       "      <td>2020-07-26</td>\n",
       "      <td>New Jersey</td>\n",
       "      <td>34</td>\n",
       "      <td>181283</td>\n",
       "      <td>15787</td>\n",
       "      <td>N.J.</td>\n",
       "      <td>NJ</td>\n",
       "    </tr>\n",
       "    <tr>\n",
       "      <th>2781</th>\n",
       "      <td>2020-07-27</td>\n",
       "      <td>New Jersey</td>\n",
       "      <td>34</td>\n",
       "      <td>181732</td>\n",
       "      <td>15804</td>\n",
       "      <td>N.J.</td>\n",
       "      <td>NJ</td>\n",
       "    </tr>\n",
       "    <tr>\n",
       "      <th>2782</th>\n",
       "      <td>2020-07-28</td>\n",
       "      <td>New Jersey</td>\n",
       "      <td>34</td>\n",
       "      <td>182215</td>\n",
       "      <td>15825</td>\n",
       "      <td>N.J.</td>\n",
       "      <td>NJ</td>\n",
       "    </tr>\n",
       "  </tbody>\n",
       "</table>\n",
       "</div>"
      ],
      "text/plain": [
       "           date       state  fips   cases  deaths Abbreviation Postal Code\n",
       "2778 2020-07-24  New Jersey    34  180265   15765         N.J.          NJ\n",
       "2779 2020-07-25  New Jersey    34  180778   15776         N.J.          NJ\n",
       "2780 2020-07-26  New Jersey    34  181283   15787         N.J.          NJ\n",
       "2781 2020-07-27  New Jersey    34  181732   15804         N.J.          NJ\n",
       "2782 2020-07-28  New Jersey    34  182215   15825         N.J.          NJ"
      ]
     },
     "execution_count": 265,
     "metadata": {},
     "output_type": "execute_result"
    }
   ],
   "source": [
    "# Number of states considered (among top impacted)\n",
    "nb_states_time_plot = 10\n",
    "df_states_considered = df_ti['state'].head(nb_states_time_plot)\n",
    "# index on the most impacted states only\n",
    "boolean_index = df['state'].isin(df_states_considered)\n",
    "# df time plot\n",
    "df_tp = df[boolean_index]\n",
    "df_tp.tail()"
   ]
  },
  {
   "cell_type": "code",
   "execution_count": 267,
   "metadata": {},
   "outputs": [
    {
     "data": {
      "image/png": "[encoded data removed]",
      "text/plain": [
       "<Figure size 864x576 with 1 Axes>"
      ]
     },
     "metadata": {},
     "output_type": "display_data"
    }
   ],
   "source": [
    "fig, ax = plt.subplots(figsize=(12, 8))\n",
    "sns.lineplot(x='date', y='cases', hue='state', palette='bright', hue_order=df_states_considered,\n",
    "             ax=ax, data=df_tp)\n",
    "ax.get_yaxis().set_major_formatter(FuncFormatter(lambda x,p: format(int(x),',')))"
   ]
  },
  {
   "cell_type": "code",
   "execution_count": 262,
   "metadata": {},
   "outputs": [],
   "source": [
    "fig.savefig(f'output_visuals/Evolution_total_number_of_cases_through_time_' \\\n",
    "            f'{last_date.strftime(\"%B_%d_%Y\")}.png')"
   ]
  },
  {
   "cell_type": "markdown",
   "metadata": {},
   "source": [
    "## Masks Effectiveness"
   ]
  },
  {
   "cell_type": "code",
   "execution_count": 685,
   "metadata": {},
   "outputs": [
    {
     "data": {
      "text/html": [
       "<div>\n",
       "<style scoped>\n",
       "    .dataframe tbody tr th:only-of-type {\n",
       "        vertical-align: middle;\n",
       "    }\n",
       "\n",
       "    .dataframe tbody tr th {\n",
       "        vertical-align: top;\n",
       "    }\n",
       "\n",
       "    .dataframe thead th {\n",
       "        text-align: right;\n",
       "    }\n",
       "</style>\n",
       "<table border=\"1\" class=\"dataframe\">\n",
       "  <thead>\n",
       "    <tr style=\"text-align: right;\">\n",
       "      <th></th>\n",
       "      <th>date</th>\n",
       "      <th>county</th>\n",
       "      <th>state</th>\n",
       "      <th>fips</th>\n",
       "      <th>cases</th>\n",
       "      <th>deaths</th>\n",
       "    </tr>\n",
       "  </thead>\n",
       "  <tbody>\n",
       "    <tr>\n",
       "      <th>0</th>\n",
       "      <td>2020-01-21</td>\n",
       "      <td>Snohomish</td>\n",
       "      <td>Washington</td>\n",
       "      <td>53061.0</td>\n",
       "      <td>1</td>\n",
       "      <td>0</td>\n",
       "    </tr>\n",
       "    <tr>\n",
       "      <th>1</th>\n",
       "      <td>2020-01-22</td>\n",
       "      <td>Snohomish</td>\n",
       "      <td>Washington</td>\n",
       "      <td>53061.0</td>\n",
       "      <td>1</td>\n",
       "      <td>0</td>\n",
       "    </tr>\n",
       "    <tr>\n",
       "      <th>2</th>\n",
       "      <td>2020-01-23</td>\n",
       "      <td>Snohomish</td>\n",
       "      <td>Washington</td>\n",
       "      <td>53061.0</td>\n",
       "      <td>1</td>\n",
       "      <td>0</td>\n",
       "    </tr>\n",
       "    <tr>\n",
       "      <th>3</th>\n",
       "      <td>2020-01-24</td>\n",
       "      <td>Cook</td>\n",
       "      <td>Illinois</td>\n",
       "      <td>17031.0</td>\n",
       "      <td>1</td>\n",
       "      <td>0</td>\n",
       "    </tr>\n",
       "    <tr>\n",
       "      <th>4</th>\n",
       "      <td>2020-01-24</td>\n",
       "      <td>Snohomish</td>\n",
       "      <td>Washington</td>\n",
       "      <td>53061.0</td>\n",
       "      <td>1</td>\n",
       "      <td>0</td>\n",
       "    </tr>\n",
       "  </tbody>\n",
       "</table>\n",
       "</div>"
      ],
      "text/plain": [
       "        date     county       state     fips  cases  deaths\n",
       "0 2020-01-21  Snohomish  Washington  53061.0      1       0\n",
       "1 2020-01-22  Snohomish  Washington  53061.0      1       0\n",
       "2 2020-01-23  Snohomish  Washington  53061.0      1       0\n",
       "3 2020-01-24       Cook    Illinois  17031.0      1       0\n",
       "4 2020-01-24  Snohomish  Washington  53061.0      1       0"
      ]
     },
     "execution_count": 685,
     "metadata": {},
     "output_type": "execute_result"
    }
   ],
   "source": [
    "# Initiate dfm dataframe to do that mask correlation analysis (cases per county through time)\n",
    "dfm0 = pd.read_csv('us-counties.csv')\n",
    "# Cast date into proper datetime objects\n",
    "dfm0['date'] = dfm0['date'].apply(lambda x: pd.Timestamp(x))\n",
    "dfm0.head()"
   ]
  },
  {
   "cell_type": "code",
   "execution_count": 686,
   "metadata": {},
   "outputs": [
    {
     "data": {
      "text/plain": [
       "379550"
      ]
     },
     "execution_count": 686,
     "metadata": {},
     "output_type": "execute_result"
    }
   ],
   "source": [
    "len(dfm0)"
   ]
  },
  {
   "cell_type": "markdown",
   "metadata": {},
   "source": [
    "###  Prepare and standardize the counties fips codes for use as a key for later merge"
   ]
  },
  {
   "cell_type": "code",
   "execution_count": 687,
   "metadata": {},
   "outputs": [],
   "source": [
    "# fips dtype\n",
    "# dfm0.fips.dtype"
   ]
  },
  {
   "cell_type": "code",
   "execution_count": 688,
   "metadata": {},
   "outputs": [],
   "source": [
    "def fipsAsString(fips_float):\n",
    "    \"\"\"Converts a fips code read as float into a properly formatted string\"\"\"\n",
    "    try:\n",
    "        fips_int = int(fips_float)\n",
    "        fips_str = str(fips_int)\n",
    "    except:\n",
    "        fips_str = ''\n",
    "    return fips_str"
   ]
  },
  {
   "cell_type": "code",
   "execution_count": 689,
   "metadata": {},
   "outputs": [],
   "source": [
    "# If the fips column is a flaot, convert it to a string (for use as a key later)\n",
    "def convertFromTypeToStr(df, from_type):\n",
    "    if df.dtype == from_type:\n",
    "        df = df.apply(fipsAsString)\n",
    "        df = df.astype('str')\n",
    "        print('df converted to string')\n",
    "    else:\n",
    "        print(f'df dtype already: {df.dtypes}')\n",
    "    return df"
   ]
  },
  {
   "cell_type": "code",
   "execution_count": 690,
   "metadata": {},
   "outputs": [
    {
     "name": "stdout",
     "output_type": "stream",
     "text": [
      "df converted to string\n"
     ]
    },
    {
     "data": {
      "text/html": [
       "<div>\n",
       "<style scoped>\n",
       "    .dataframe tbody tr th:only-of-type {\n",
       "        vertical-align: middle;\n",
       "    }\n",
       "\n",
       "    .dataframe tbody tr th {\n",
       "        vertical-align: top;\n",
       "    }\n",
       "\n",
       "    .dataframe thead th {\n",
       "        text-align: right;\n",
       "    }\n",
       "</style>\n",
       "<table border=\"1\" class=\"dataframe\">\n",
       "  <thead>\n",
       "    <tr style=\"text-align: right;\">\n",
       "      <th></th>\n",
       "      <th>date</th>\n",
       "      <th>county</th>\n",
       "      <th>state</th>\n",
       "      <th>fips</th>\n",
       "      <th>cases</th>\n",
       "      <th>deaths</th>\n",
       "    </tr>\n",
       "  </thead>\n",
       "  <tbody>\n",
       "    <tr>\n",
       "      <th>0</th>\n",
       "      <td>2020-01-21</td>\n",
       "      <td>Snohomish</td>\n",
       "      <td>Washington</td>\n",
       "      <td>53061</td>\n",
       "      <td>1</td>\n",
       "      <td>0</td>\n",
       "    </tr>\n",
       "  </tbody>\n",
       "</table>\n",
       "</div>"
      ],
      "text/plain": [
       "        date     county       state   fips  cases  deaths\n",
       "0 2020-01-21  Snohomish  Washington  53061      1       0"
      ]
     },
     "execution_count": 690,
     "metadata": {},
     "output_type": "execute_result"
    }
   ],
   "source": [
    "dfm0['fips'] = convertFromTypeToStr(df=dfm0['fips'], from_type=np.float64)\n",
    "# fips are now properly formatted as strings in the main dfm\n",
    "dfm0.head(1)"
   ]
  },
  {
   "cell_type": "code",
   "execution_count": 691,
   "metadata": {},
   "outputs": [
    {
     "data": {
      "text/plain": [
       "{'Joplin', 'Kansas City', 'New York City', 'Unknown'}"
      ]
     },
     "execution_count": 691,
     "metadata": {},
     "output_type": "execute_result"
    }
   ],
   "source": [
    "set(dfm0[dfm0['fips']==\"\"].county)"
   ]
  },
  {
   "cell_type": "code",
   "execution_count": 692,
   "metadata": {},
   "outputs": [
    {
     "data": {
      "text/plain": [
       "379550"
      ]
     },
     "execution_count": 692,
     "metadata": {},
     "output_type": "execute_result"
    }
   ],
   "source": [
    "len(dfm0)"
   ]
  },
  {
   "cell_type": "code",
   "execution_count": 693,
   "metadata": {},
   "outputs": [
    {
     "data": {
      "text/plain": [
       "375734"
      ]
     },
     "execution_count": 693,
     "metadata": {},
     "output_type": "execute_result"
    }
   ],
   "source": [
    "# For now, droppping counties without fip (may have to change that in the future, because dropping NYC)\n",
    "dfm0 = dfm0[dfm0.fips != '']\n",
    "len(dfm0)"
   ]
  },
  {
   "cell_type": "code",
   "execution_count": 694,
   "metadata": {},
   "outputs": [
    {
     "data": {
      "text/html": [
       "<div>\n",
       "<style scoped>\n",
       "    .dataframe tbody tr th:only-of-type {\n",
       "        vertical-align: middle;\n",
       "    }\n",
       "\n",
       "    .dataframe tbody tr th {\n",
       "        vertical-align: top;\n",
       "    }\n",
       "\n",
       "    .dataframe thead th {\n",
       "        text-align: right;\n",
       "    }\n",
       "</style>\n",
       "<table border=\"1\" class=\"dataframe\">\n",
       "  <thead>\n",
       "    <tr style=\"text-align: right;\">\n",
       "      <th></th>\n",
       "      <th>fips</th>\n",
       "      <th>county</th>\n",
       "      <th>state</th>\n",
       "      <th>new_cases_m2w</th>\n",
       "    </tr>\n",
       "  </thead>\n",
       "  <tbody>\n",
       "    <tr>\n",
       "      <th>0</th>\n",
       "      <td>53061</td>\n",
       "      <td>Snohomish</td>\n",
       "      <td>Washington</td>\n",
       "      <td>NaN</td>\n",
       "    </tr>\n",
       "    <tr>\n",
       "      <th>3</th>\n",
       "      <td>17031</td>\n",
       "      <td>Cook</td>\n",
       "      <td>Illinois</td>\n",
       "      <td>NaN</td>\n",
       "    </tr>\n",
       "    <tr>\n",
       "      <th>5</th>\n",
       "      <td>6059</td>\n",
       "      <td>Orange</td>\n",
       "      <td>California</td>\n",
       "      <td>NaN</td>\n",
       "    </tr>\n",
       "    <tr>\n",
       "      <th>8</th>\n",
       "      <td>4013</td>\n",
       "      <td>Maricopa</td>\n",
       "      <td>Arizona</td>\n",
       "      <td>NaN</td>\n",
       "    </tr>\n",
       "    <tr>\n",
       "      <th>9</th>\n",
       "      <td>6037</td>\n",
       "      <td>Los Angeles</td>\n",
       "      <td>California</td>\n",
       "      <td>NaN</td>\n",
       "    </tr>\n",
       "  </tbody>\n",
       "</table>\n",
       "</div>"
      ],
      "text/plain": [
       "    fips       county       state  new_cases_m2w\n",
       "0  53061    Snohomish  Washington            NaN\n",
       "3  17031         Cook    Illinois            NaN\n",
       "5   6059       Orange  California            NaN\n",
       "8   4013     Maricopa     Arizona            NaN\n",
       "9   6037  Los Angeles  California            NaN"
      ]
     },
     "execution_count": 694,
     "metadata": {},
     "output_type": "execute_result"
    }
   ],
   "source": [
    "# Create the target dfm\n",
    "dfm = dfm0.loc[:, ['fips', 'county', 'state']].copy()\n",
    "dfm.drop_duplicates(subset='fips', inplace=True)\n",
    "dfm['new_cases_m2w'] = np.nan\n",
    "dfm.head()"
   ]
  },
  {
   "cell_type": "code",
   "execution_count": 695,
   "metadata": {},
   "outputs": [
    {
     "data": {
      "text/plain": [
       "3187"
      ]
     },
     "execution_count": 695,
     "metadata": {},
     "output_type": "execute_result"
    }
   ],
   "source": [
    "# Number of lines (counties)\n",
    "len(dfm)"
   ]
  },
  {
   "cell_type": "markdown",
   "metadata": {},
   "source": [
    "### Calculate the average number of new cases per day per county on the last two weeks"
   ]
  },
  {
   "cell_type": "code",
   "execution_count": 696,
   "metadata": {},
   "outputs": [
    {
     "data": {
      "text/html": [
       "<div>\n",
       "<style scoped>\n",
       "    .dataframe tbody tr th:only-of-type {\n",
       "        vertical-align: middle;\n",
       "    }\n",
       "\n",
       "    .dataframe tbody tr th {\n",
       "        vertical-align: top;\n",
       "    }\n",
       "\n",
       "    .dataframe thead th {\n",
       "        text-align: right;\n",
       "    }\n",
       "</style>\n",
       "<table border=\"1\" class=\"dataframe\">\n",
       "  <thead>\n",
       "    <tr style=\"text-align: right;\">\n",
       "      <th></th>\n",
       "      <th>date</th>\n",
       "      <th>county</th>\n",
       "      <th>state</th>\n",
       "      <th>fips</th>\n",
       "      <th>cases</th>\n",
       "      <th>deaths</th>\n",
       "    </tr>\n",
       "  </thead>\n",
       "  <tbody>\n",
       "    <tr>\n",
       "      <th>336809</th>\n",
       "      <td>2020-07-15</td>\n",
       "      <td>Grady</td>\n",
       "      <td>Oklahoma</td>\n",
       "      <td>40051</td>\n",
       "      <td>264</td>\n",
       "      <td>5</td>\n",
       "    </tr>\n",
       "    <tr>\n",
       "      <th>336808</th>\n",
       "      <td>2020-07-15</td>\n",
       "      <td>Garvin</td>\n",
       "      <td>Oklahoma</td>\n",
       "      <td>40049</td>\n",
       "      <td>140</td>\n",
       "      <td>3</td>\n",
       "    </tr>\n",
       "    <tr>\n",
       "      <th>336807</th>\n",
       "      <td>2020-07-15</td>\n",
       "      <td>Garfield</td>\n",
       "      <td>Oklahoma</td>\n",
       "      <td>40047</td>\n",
       "      <td>138</td>\n",
       "      <td>2</td>\n",
       "    </tr>\n",
       "    <tr>\n",
       "      <th>336802</th>\n",
       "      <td>2020-07-15</td>\n",
       "      <td>Creek</td>\n",
       "      <td>Oklahoma</td>\n",
       "      <td>40037</td>\n",
       "      <td>231</td>\n",
       "      <td>9</td>\n",
       "    </tr>\n",
       "    <tr>\n",
       "      <th>336805</th>\n",
       "      <td>2020-07-15</td>\n",
       "      <td>Dewey</td>\n",
       "      <td>Oklahoma</td>\n",
       "      <td>40043</td>\n",
       "      <td>4</td>\n",
       "      <td>0</td>\n",
       "    </tr>\n",
       "    <tr>\n",
       "      <th>...</th>\n",
       "      <td>...</td>\n",
       "      <td>...</td>\n",
       "      <td>...</td>\n",
       "      <td>...</td>\n",
       "      <td>...</td>\n",
       "      <td>...</td>\n",
       "    </tr>\n",
       "    <tr>\n",
       "      <th>377407</th>\n",
       "      <td>2020-07-28</td>\n",
       "      <td>Meade</td>\n",
       "      <td>Kentucky</td>\n",
       "      <td>21163</td>\n",
       "      <td>72</td>\n",
       "      <td>2</td>\n",
       "    </tr>\n",
       "    <tr>\n",
       "      <th>377408</th>\n",
       "      <td>2020-07-28</td>\n",
       "      <td>Menifee</td>\n",
       "      <td>Kentucky</td>\n",
       "      <td>21165</td>\n",
       "      <td>24</td>\n",
       "      <td>0</td>\n",
       "    </tr>\n",
       "    <tr>\n",
       "      <th>377409</th>\n",
       "      <td>2020-07-28</td>\n",
       "      <td>Mercer</td>\n",
       "      <td>Kentucky</td>\n",
       "      <td>21167</td>\n",
       "      <td>38</td>\n",
       "      <td>0</td>\n",
       "    </tr>\n",
       "    <tr>\n",
       "      <th>377411</th>\n",
       "      <td>2020-07-28</td>\n",
       "      <td>Monroe</td>\n",
       "      <td>Kentucky</td>\n",
       "      <td>21171</td>\n",
       "      <td>83</td>\n",
       "      <td>2</td>\n",
       "    </tr>\n",
       "    <tr>\n",
       "      <th>379549</th>\n",
       "      <td>2020-07-28</td>\n",
       "      <td>Weston</td>\n",
       "      <td>Wyoming</td>\n",
       "      <td>56045</td>\n",
       "      <td>5</td>\n",
       "      <td>0</td>\n",
       "    </tr>\n",
       "  </tbody>\n",
       "</table>\n",
       "<p>44469 rows × 6 columns</p>\n",
       "</div>"
      ],
      "text/plain": [
       "             date    county     state   fips  cases  deaths\n",
       "336809 2020-07-15     Grady  Oklahoma  40051    264       5\n",
       "336808 2020-07-15    Garvin  Oklahoma  40049    140       3\n",
       "336807 2020-07-15  Garfield  Oklahoma  40047    138       2\n",
       "336802 2020-07-15     Creek  Oklahoma  40037    231       9\n",
       "336805 2020-07-15     Dewey  Oklahoma  40043      4       0\n",
       "...           ...       ...       ...    ...    ...     ...\n",
       "377407 2020-07-28     Meade  Kentucky  21163     72       2\n",
       "377408 2020-07-28   Menifee  Kentucky  21165     24       0\n",
       "377409 2020-07-28    Mercer  Kentucky  21167     38       0\n",
       "377411 2020-07-28    Monroe  Kentucky  21171     83       2\n",
       "379549 2020-07-28    Weston   Wyoming  56045      5       0\n",
       "\n",
       "[44469 rows x 6 columns]"
      ]
     },
     "execution_count": 696,
     "metadata": {},
     "output_type": "execute_result"
    }
   ],
   "source": [
    "# Calulate the new cases each day\n",
    "dfm1 = dfm0.copy()\n",
    "dfm1.sort_values(by='date', inplace=True)\n",
    "# Only keep the last two keeks\n",
    "time_condition = dfm1['date'].iloc[-1] - dfm1['date'] < pd.Timedelta(weeks=2)\n",
    "dfm1 = dfm1[time_condition]\n",
    "dfm1"
   ]
  },
  {
   "cell_type": "code",
   "execution_count": 697,
   "metadata": {},
   "outputs": [
    {
     "name": "stdout",
     "output_type": "stream",
     "text": [
      "Data processing time: 24.89759111404419\n"
     ]
    }
   ],
   "source": [
    "# Loop through the counties (using their fips) and compute mean of new cases on past two weeks\n",
    "start_time = time.time()\n",
    "for fips in dfm.fips:\n",
    "    dfc = dfm1[dfm1.fips == fips].copy()\n",
    "    dfc['new_cases'] = dfc.cases - dfc.cases.shift(1)\n",
    "    fips_mean = dfc.new_cases.mean()\n",
    "    dfm.loc[dfm.fips == fips, 'new_cases_m2w'] = fips_mean\n",
    "print(f'Data processing time: {time.time() - start_time}')"
   ]
  },
  {
   "cell_type": "code",
   "execution_count": 698,
   "metadata": {},
   "outputs": [
    {
     "data": {
      "text/html": [
       "<div>\n",
       "<style scoped>\n",
       "    .dataframe tbody tr th:only-of-type {\n",
       "        vertical-align: middle;\n",
       "    }\n",
       "\n",
       "    .dataframe tbody tr th {\n",
       "        vertical-align: top;\n",
       "    }\n",
       "\n",
       "    .dataframe thead th {\n",
       "        text-align: right;\n",
       "    }\n",
       "</style>\n",
       "<table border=\"1\" class=\"dataframe\">\n",
       "  <thead>\n",
       "    <tr style=\"text-align: right;\">\n",
       "      <th></th>\n",
       "      <th>fips</th>\n",
       "      <th>county</th>\n",
       "      <th>state</th>\n",
       "      <th>new_cases_m2w</th>\n",
       "    </tr>\n",
       "  </thead>\n",
       "  <tbody>\n",
       "    <tr>\n",
       "      <th>0</th>\n",
       "      <td>53061</td>\n",
       "      <td>Snohomish</td>\n",
       "      <td>Washington</td>\n",
       "      <td>64.692308</td>\n",
       "    </tr>\n",
       "    <tr>\n",
       "      <th>3</th>\n",
       "      <td>17031</td>\n",
       "      <td>Cook</td>\n",
       "      <td>Illinois</td>\n",
       "      <td>521.461538</td>\n",
       "    </tr>\n",
       "    <tr>\n",
       "      <th>5</th>\n",
       "      <td>6059</td>\n",
       "      <td>Orange</td>\n",
       "      <td>California</td>\n",
       "      <td>600.153846</td>\n",
       "    </tr>\n",
       "    <tr>\n",
       "      <th>8</th>\n",
       "      <td>4013</td>\n",
       "      <td>Maricopa</td>\n",
       "      <td>Arizona</td>\n",
       "      <td>1920.230769</td>\n",
       "    </tr>\n",
       "    <tr>\n",
       "      <th>9</th>\n",
       "      <td>6037</td>\n",
       "      <td>Los Angeles</td>\n",
       "      <td>California</td>\n",
       "      <td>2741.000000</td>\n",
       "    </tr>\n",
       "    <tr>\n",
       "      <th>...</th>\n",
       "      <td>...</td>\n",
       "      <td>...</td>\n",
       "      <td>...</td>\n",
       "      <td>...</td>\n",
       "    </tr>\n",
       "    <tr>\n",
       "      <th>368310</th>\n",
       "      <td>30019</td>\n",
       "      <td>Daniels</td>\n",
       "      <td>Montana</td>\n",
       "      <td>0.000000</td>\n",
       "    </tr>\n",
       "    <tr>\n",
       "      <th>368434</th>\n",
       "      <td>31183</td>\n",
       "      <td>Wheeler</td>\n",
       "      <td>Nebraska</td>\n",
       "      <td>0.000000</td>\n",
       "    </tr>\n",
       "    <tr>\n",
       "      <th>369765</th>\n",
       "      <td>54017</td>\n",
       "      <td>Doddridge</td>\n",
       "      <td>West Virginia</td>\n",
       "      <td>0.333333</td>\n",
       "    </tr>\n",
       "    <tr>\n",
       "      <th>375990</th>\n",
       "      <td>49055</td>\n",
       "      <td>Wayne</td>\n",
       "      <td>Utah</td>\n",
       "      <td>0.000000</td>\n",
       "    </tr>\n",
       "    <tr>\n",
       "      <th>378314</th>\n",
       "      <td>38001</td>\n",
       "      <td>Adams</td>\n",
       "      <td>North Dakota</td>\n",
       "      <td>NaN</td>\n",
       "    </tr>\n",
       "  </tbody>\n",
       "</table>\n",
       "<p>3187 rows × 4 columns</p>\n",
       "</div>"
      ],
      "text/plain": [
       "         fips       county          state  new_cases_m2w\n",
       "0       53061    Snohomish     Washington      64.692308\n",
       "3       17031         Cook       Illinois     521.461538\n",
       "5        6059       Orange     California     600.153846\n",
       "8        4013     Maricopa        Arizona    1920.230769\n",
       "9        6037  Los Angeles     California    2741.000000\n",
       "...       ...          ...            ...            ...\n",
       "368310  30019      Daniels        Montana       0.000000\n",
       "368434  31183      Wheeler       Nebraska       0.000000\n",
       "369765  54017    Doddridge  West Virginia       0.333333\n",
       "375990  49055        Wayne           Utah       0.000000\n",
       "378314  38001        Adams   North Dakota            NaN\n",
       "\n",
       "[3187 rows x 4 columns]"
      ]
     },
     "execution_count": 698,
     "metadata": {},
     "output_type": "execute_result"
    }
   ],
   "source": [
    "dfm"
   ]
  },
  {
   "cell_type": "markdown",
   "metadata": {},
   "source": [
    "### Include the population per county (merge on county fips code)"
   ]
  },
  {
   "cell_type": "code",
   "execution_count": 699,
   "metadata": {},
   "outputs": [
    {
     "data": {
      "text/html": [
       "<div>\n",
       "<style scoped>\n",
       "    .dataframe tbody tr th:only-of-type {\n",
       "        vertical-align: middle;\n",
       "    }\n",
       "\n",
       "    .dataframe tbody tr th {\n",
       "        vertical-align: top;\n",
       "    }\n",
       "\n",
       "    .dataframe thead th {\n",
       "        text-align: right;\n",
       "    }\n",
       "</style>\n",
       "<table border=\"1\" class=\"dataframe\">\n",
       "  <thead>\n",
       "    <tr style=\"text-align: right;\">\n",
       "      <th></th>\n",
       "      <th>STATE</th>\n",
       "      <th>COUNTY</th>\n",
       "      <th>STNAME</th>\n",
       "      <th>CTYNAME</th>\n",
       "      <th>POPULATION</th>\n",
       "    </tr>\n",
       "  </thead>\n",
       "  <tbody>\n",
       "    <tr>\n",
       "      <th>0</th>\n",
       "      <td>1</td>\n",
       "      <td>0</td>\n",
       "      <td>Alabama</td>\n",
       "      <td>Alabama</td>\n",
       "      <td>4903185</td>\n",
       "    </tr>\n",
       "    <tr>\n",
       "      <th>1</th>\n",
       "      <td>1</td>\n",
       "      <td>1</td>\n",
       "      <td>Alabama</td>\n",
       "      <td>Autauga County</td>\n",
       "      <td>55869</td>\n",
       "    </tr>\n",
       "  </tbody>\n",
       "</table>\n",
       "</div>"
      ],
      "text/plain": [
       "   STATE  COUNTY   STNAME         CTYNAME  POPULATION\n",
       "0      1       0  Alabama         Alabama     4903185\n",
       "1      1       1  Alabama  Autauga County       55869"
      ]
     },
     "execution_count": 699,
     "metadata": {},
     "output_type": "execute_result"
    }
   ],
   "source": [
    "# Read population csv\n",
    "df_pop = pd.read_csv('other_input/us-county-population-census.csv', encoding='iso-8859-1')\n",
    "df_pop.head(2)"
   ]
  },
  {
   "cell_type": "markdown",
   "metadata": {},
   "source": [
    "Need to create first a fips 'key' out of the STATE and COUNTY numbers, for later merge in main df:"
   ]
  },
  {
   "cell_type": "code",
   "execution_count": 700,
   "metadata": {},
   "outputs": [],
   "source": [
    "# df_pop.dtypes"
   ]
  },
  {
   "cell_type": "code",
   "execution_count": 701,
   "metadata": {},
   "outputs": [
    {
     "name": "stdout",
     "output_type": "stream",
     "text": [
      "df converted to string\n",
      "df converted to string\n"
     ]
    },
    {
     "data": {
      "text/html": [
       "<div>\n",
       "<style scoped>\n",
       "    .dataframe tbody tr th:only-of-type {\n",
       "        vertical-align: middle;\n",
       "    }\n",
       "\n",
       "    .dataframe tbody tr th {\n",
       "        vertical-align: top;\n",
       "    }\n",
       "\n",
       "    .dataframe thead th {\n",
       "        text-align: right;\n",
       "    }\n",
       "</style>\n",
       "<table border=\"1\" class=\"dataframe\">\n",
       "  <thead>\n",
       "    <tr style=\"text-align: right;\">\n",
       "      <th></th>\n",
       "      <th>CTYNAME</th>\n",
       "      <th>POPULATION</th>\n",
       "      <th>fips</th>\n",
       "    </tr>\n",
       "  </thead>\n",
       "  <tbody>\n",
       "    <tr>\n",
       "      <th>0</th>\n",
       "      <td>Alabama</td>\n",
       "      <td>4903185</td>\n",
       "      <td>1000</td>\n",
       "    </tr>\n",
       "    <tr>\n",
       "      <th>1</th>\n",
       "      <td>Autauga County</td>\n",
       "      <td>55869</td>\n",
       "      <td>1001</td>\n",
       "    </tr>\n",
       "    <tr>\n",
       "      <th>2</th>\n",
       "      <td>Baldwin County</td>\n",
       "      <td>223234</td>\n",
       "      <td>1003</td>\n",
       "    </tr>\n",
       "  </tbody>\n",
       "</table>\n",
       "</div>"
      ],
      "text/plain": [
       "          CTYNAME  POPULATION  fips\n",
       "0         Alabama     4903185  1000\n",
       "1  Autauga County       55869  1001\n",
       "2  Baldwin County      223234  1003"
      ]
     },
     "execution_count": 701,
     "metadata": {},
     "output_type": "execute_result"
    }
   ],
   "source": [
    "# Make STATE and COUNTY strings\n",
    "df_pop['STATE'] = convertFromTypeToStr(df=df_pop['STATE'], from_type=np.int64)\n",
    "df_pop['COUNTY'] = convertFromTypeToStr(df=df_pop['COUNTY'], from_type=np.int64)\n",
    "# Zero padd the county (should be 3 digits)\n",
    "df_pop['COUNTY'] = df_pop['COUNTY'].apply(lambda x: x.zfill(3))\n",
    "# Create the county fips column in the population df\n",
    "df_pop['fips'] = df_pop['STATE'] + df_pop['COUNTY']\n",
    "# Drop unnecessary columns before merge\n",
    "df_pop1 = df_pop.drop(columns=['STATE', 'COUNTY', 'STNAME'])\n",
    "df_pop1.head(3)"
   ]
  },
  {
   "cell_type": "code",
   "execution_count": 702,
   "metadata": {},
   "outputs": [],
   "source": [
    "# Merge the population data into the main df\n",
    "dfm2 = pd.merge(left=dfm, right=df_pop1, on='fips', how='inner', left_index=True)\n",
    "dfm2.drop(columns='CTYNAME', inplace=True)\n",
    "dfm2.reset_index(inplace=True, drop=True)"
   ]
  },
  {
   "cell_type": "code",
   "execution_count": 703,
   "metadata": {},
   "outputs": [
    {
     "data": {
      "text/html": [
       "<div>\n",
       "<style scoped>\n",
       "    .dataframe tbody tr th:only-of-type {\n",
       "        vertical-align: middle;\n",
       "    }\n",
       "\n",
       "    .dataframe tbody tr th {\n",
       "        vertical-align: top;\n",
       "    }\n",
       "\n",
       "    .dataframe thead th {\n",
       "        text-align: right;\n",
       "    }\n",
       "</style>\n",
       "<table border=\"1\" class=\"dataframe\">\n",
       "  <thead>\n",
       "    <tr style=\"text-align: right;\">\n",
       "      <th></th>\n",
       "      <th>fips</th>\n",
       "      <th>county</th>\n",
       "      <th>state</th>\n",
       "      <th>new_cases_m2w</th>\n",
       "      <th>POPULATION</th>\n",
       "    </tr>\n",
       "  </thead>\n",
       "  <tbody>\n",
       "    <tr>\n",
       "      <th>0</th>\n",
       "      <td>53061</td>\n",
       "      <td>Snohomish</td>\n",
       "      <td>Washington</td>\n",
       "      <td>64.692308</td>\n",
       "      <td>822083</td>\n",
       "    </tr>\n",
       "    <tr>\n",
       "      <th>1</th>\n",
       "      <td>17031</td>\n",
       "      <td>Cook</td>\n",
       "      <td>Illinois</td>\n",
       "      <td>521.461538</td>\n",
       "      <td>5150233</td>\n",
       "    </tr>\n",
       "    <tr>\n",
       "      <th>2</th>\n",
       "      <td>6059</td>\n",
       "      <td>Orange</td>\n",
       "      <td>California</td>\n",
       "      <td>600.153846</td>\n",
       "      <td>3175692</td>\n",
       "    </tr>\n",
       "    <tr>\n",
       "      <th>3</th>\n",
       "      <td>4013</td>\n",
       "      <td>Maricopa</td>\n",
       "      <td>Arizona</td>\n",
       "      <td>1920.230769</td>\n",
       "      <td>4485414</td>\n",
       "    </tr>\n",
       "    <tr>\n",
       "      <th>4</th>\n",
       "      <td>6037</td>\n",
       "      <td>Los Angeles</td>\n",
       "      <td>California</td>\n",
       "      <td>2741.000000</td>\n",
       "      <td>10039107</td>\n",
       "    </tr>\n",
       "    <tr>\n",
       "      <th>...</th>\n",
       "      <td>...</td>\n",
       "      <td>...</td>\n",
       "      <td>...</td>\n",
       "      <td>...</td>\n",
       "      <td>...</td>\n",
       "    </tr>\n",
       "    <tr>\n",
       "      <th>3099</th>\n",
       "      <td>30019</td>\n",
       "      <td>Daniels</td>\n",
       "      <td>Montana</td>\n",
       "      <td>0.000000</td>\n",
       "      <td>1690</td>\n",
       "    </tr>\n",
       "    <tr>\n",
       "      <th>3100</th>\n",
       "      <td>31183</td>\n",
       "      <td>Wheeler</td>\n",
       "      <td>Nebraska</td>\n",
       "      <td>0.000000</td>\n",
       "      <td>783</td>\n",
       "    </tr>\n",
       "    <tr>\n",
       "      <th>3101</th>\n",
       "      <td>54017</td>\n",
       "      <td>Doddridge</td>\n",
       "      <td>West Virginia</td>\n",
       "      <td>0.333333</td>\n",
       "      <td>8448</td>\n",
       "    </tr>\n",
       "    <tr>\n",
       "      <th>3102</th>\n",
       "      <td>49055</td>\n",
       "      <td>Wayne</td>\n",
       "      <td>Utah</td>\n",
       "      <td>0.000000</td>\n",
       "      <td>2711</td>\n",
       "    </tr>\n",
       "    <tr>\n",
       "      <th>3103</th>\n",
       "      <td>38001</td>\n",
       "      <td>Adams</td>\n",
       "      <td>North Dakota</td>\n",
       "      <td>NaN</td>\n",
       "      <td>2216</td>\n",
       "    </tr>\n",
       "  </tbody>\n",
       "</table>\n",
       "<p>3104 rows × 5 columns</p>\n",
       "</div>"
      ],
      "text/plain": [
       "       fips       county          state  new_cases_m2w  POPULATION\n",
       "0     53061    Snohomish     Washington      64.692308      822083\n",
       "1     17031         Cook       Illinois     521.461538     5150233\n",
       "2      6059       Orange     California     600.153846     3175692\n",
       "3      4013     Maricopa        Arizona    1920.230769     4485414\n",
       "4      6037  Los Angeles     California    2741.000000    10039107\n",
       "...     ...          ...            ...            ...         ...\n",
       "3099  30019      Daniels        Montana       0.000000        1690\n",
       "3100  31183      Wheeler       Nebraska       0.000000         783\n",
       "3101  54017    Doddridge  West Virginia       0.333333        8448\n",
       "3102  49055        Wayne           Utah       0.000000        2711\n",
       "3103  38001        Adams   North Dakota            NaN        2216\n",
       "\n",
       "[3104 rows x 5 columns]"
      ]
     },
     "execution_count": 703,
     "metadata": {},
     "output_type": "execute_result"
    }
   ],
   "source": [
    "dfm2"
   ]
  },
  {
   "cell_type": "code",
   "execution_count": 705,
   "metadata": {},
   "outputs": [
    {
     "data": {
      "text/html": [
       "<div>\n",
       "<style scoped>\n",
       "    .dataframe tbody tr th:only-of-type {\n",
       "        vertical-align: middle;\n",
       "    }\n",
       "\n",
       "    .dataframe tbody tr th {\n",
       "        vertical-align: top;\n",
       "    }\n",
       "\n",
       "    .dataframe thead th {\n",
       "        text-align: right;\n",
       "    }\n",
       "</style>\n",
       "<table border=\"1\" class=\"dataframe\">\n",
       "  <thead>\n",
       "    <tr style=\"text-align: right;\">\n",
       "      <th></th>\n",
       "      <th>fips</th>\n",
       "      <th>county</th>\n",
       "      <th>state</th>\n",
       "      <th>new_cases_m2w</th>\n",
       "      <th>POPULATION</th>\n",
       "      <th>new_cases_m2wN</th>\n",
       "    </tr>\n",
       "  </thead>\n",
       "  <tbody>\n",
       "    <tr>\n",
       "      <th>0</th>\n",
       "      <td>53061</td>\n",
       "      <td>Snohomish</td>\n",
       "      <td>Washington</td>\n",
       "      <td>64.692308</td>\n",
       "      <td>822083</td>\n",
       "      <td>7.869316</td>\n",
       "    </tr>\n",
       "    <tr>\n",
       "      <th>1</th>\n",
       "      <td>17031</td>\n",
       "      <td>Cook</td>\n",
       "      <td>Illinois</td>\n",
       "      <td>521.461538</td>\n",
       "      <td>5150233</td>\n",
       "      <td>10.125009</td>\n",
       "    </tr>\n",
       "    <tr>\n",
       "      <th>2</th>\n",
       "      <td>6059</td>\n",
       "      <td>Orange</td>\n",
       "      <td>California</td>\n",
       "      <td>600.153846</td>\n",
       "      <td>3175692</td>\n",
       "      <td>18.898364</td>\n",
       "    </tr>\n",
       "    <tr>\n",
       "      <th>3</th>\n",
       "      <td>4013</td>\n",
       "      <td>Maricopa</td>\n",
       "      <td>Arizona</td>\n",
       "      <td>1920.230769</td>\n",
       "      <td>4485414</td>\n",
       "      <td>42.810558</td>\n",
       "    </tr>\n",
       "    <tr>\n",
       "      <th>4</th>\n",
       "      <td>6037</td>\n",
       "      <td>Los Angeles</td>\n",
       "      <td>California</td>\n",
       "      <td>2741.000000</td>\n",
       "      <td>10039107</td>\n",
       "      <td>27.303225</td>\n",
       "    </tr>\n",
       "    <tr>\n",
       "      <th>...</th>\n",
       "      <td>...</td>\n",
       "      <td>...</td>\n",
       "      <td>...</td>\n",
       "      <td>...</td>\n",
       "      <td>...</td>\n",
       "      <td>...</td>\n",
       "    </tr>\n",
       "    <tr>\n",
       "      <th>3099</th>\n",
       "      <td>30019</td>\n",
       "      <td>Daniels</td>\n",
       "      <td>Montana</td>\n",
       "      <td>0.000000</td>\n",
       "      <td>1690</td>\n",
       "      <td>0.000000</td>\n",
       "    </tr>\n",
       "    <tr>\n",
       "      <th>3100</th>\n",
       "      <td>31183</td>\n",
       "      <td>Wheeler</td>\n",
       "      <td>Nebraska</td>\n",
       "      <td>0.000000</td>\n",
       "      <td>783</td>\n",
       "      <td>0.000000</td>\n",
       "    </tr>\n",
       "    <tr>\n",
       "      <th>3101</th>\n",
       "      <td>54017</td>\n",
       "      <td>Doddridge</td>\n",
       "      <td>West Virginia</td>\n",
       "      <td>0.333333</td>\n",
       "      <td>8448</td>\n",
       "      <td>3.945707</td>\n",
       "    </tr>\n",
       "    <tr>\n",
       "      <th>3102</th>\n",
       "      <td>49055</td>\n",
       "      <td>Wayne</td>\n",
       "      <td>Utah</td>\n",
       "      <td>0.000000</td>\n",
       "      <td>2711</td>\n",
       "      <td>0.000000</td>\n",
       "    </tr>\n",
       "    <tr>\n",
       "      <th>3103</th>\n",
       "      <td>38001</td>\n",
       "      <td>Adams</td>\n",
       "      <td>North Dakota</td>\n",
       "      <td>NaN</td>\n",
       "      <td>2216</td>\n",
       "      <td>NaN</td>\n",
       "    </tr>\n",
       "  </tbody>\n",
       "</table>\n",
       "<p>3104 rows × 6 columns</p>\n",
       "</div>"
      ],
      "text/plain": [
       "       fips       county          state  new_cases_m2w  POPULATION  \\\n",
       "0     53061    Snohomish     Washington      64.692308      822083   \n",
       "1     17031         Cook       Illinois     521.461538     5150233   \n",
       "2      6059       Orange     California     600.153846     3175692   \n",
       "3      4013     Maricopa        Arizona    1920.230769     4485414   \n",
       "4      6037  Los Angeles     California    2741.000000    10039107   \n",
       "...     ...          ...            ...            ...         ...   \n",
       "3099  30019      Daniels        Montana       0.000000        1690   \n",
       "3100  31183      Wheeler       Nebraska       0.000000         783   \n",
       "3101  54017    Doddridge  West Virginia       0.333333        8448   \n",
       "3102  49055        Wayne           Utah       0.000000        2711   \n",
       "3103  38001        Adams   North Dakota            NaN        2216   \n",
       "\n",
       "      new_cases_m2wN  \n",
       "0           7.869316  \n",
       "1          10.125009  \n",
       "2          18.898364  \n",
       "3          42.810558  \n",
       "4          27.303225  \n",
       "...              ...  \n",
       "3099        0.000000  \n",
       "3100        0.000000  \n",
       "3101        3.945707  \n",
       "3102        0.000000  \n",
       "3103             NaN  \n",
       "\n",
       "[3104 rows x 6 columns]"
      ]
     },
     "execution_count": 705,
     "metadata": {},
     "output_type": "execute_result"
    }
   ],
   "source": [
    "# Normalize the number of new cases with the population (per 100,000 habitants)\n",
    "pop_basis = 100000\n",
    "# m2wN : mean 2 weeks Normalized\n",
    "dfm2['new_cases_m2wN'] = (dfm2['new_cases_m2w'] / dfm2['POPULATION']) * pop_basis\n",
    "dfm2"
   ]
  },
  {
   "cell_type": "markdown",
   "metadata": {},
   "source": [
    "### Include percentage of mask use"
   ]
  },
  {
   "cell_type": "code",
   "execution_count": 722,
   "metadata": {},
   "outputs": [
    {
     "name": "stdout",
     "output_type": "stream",
     "text": [
      "df converted to string\n"
     ]
    },
    {
     "data": {
      "text/html": [
       "<div>\n",
       "<style scoped>\n",
       "    .dataframe tbody tr th:only-of-type {\n",
       "        vertical-align: middle;\n",
       "    }\n",
       "\n",
       "    .dataframe tbody tr th {\n",
       "        vertical-align: top;\n",
       "    }\n",
       "\n",
       "    .dataframe thead th {\n",
       "        text-align: right;\n",
       "    }\n",
       "</style>\n",
       "<table border=\"1\" class=\"dataframe\">\n",
       "  <thead>\n",
       "    <tr style=\"text-align: right;\">\n",
       "      <th></th>\n",
       "      <th>fips</th>\n",
       "      <th>Freq_Alw</th>\n",
       "    </tr>\n",
       "  </thead>\n",
       "  <tbody>\n",
       "    <tr>\n",
       "      <th>0</th>\n",
       "      <td>1001</td>\n",
       "      <td>0.739</td>\n",
       "    </tr>\n",
       "    <tr>\n",
       "      <th>1</th>\n",
       "      <td>1003</td>\n",
       "      <td>0.759</td>\n",
       "    </tr>\n",
       "    <tr>\n",
       "      <th>2</th>\n",
       "      <td>1005</td>\n",
       "      <td>0.692</td>\n",
       "    </tr>\n",
       "  </tbody>\n",
       "</table>\n",
       "</div>"
      ],
      "text/plain": [
       "   fips  Freq_Alw\n",
       "0  1001     0.739\n",
       "1  1003     0.759\n",
       "2  1005     0.692"
      ]
     },
     "execution_count": 722,
     "metadata": {},
     "output_type": "execute_result"
    }
   ],
   "source": [
    "# Import the use of mask and bucket FREQUENTLY and ALWAYS together\n",
    "df_mu = pd.read_csv('mask-use/mask-use-by-county.csv')\n",
    "df_mu.rename(columns={'COUNTYFP': 'fips'}, inplace=True)\n",
    "df_mu.fips = convertFromTypeToStr(df=df_mu.fips, from_type=np.int64)\n",
    "df_mu['Freq_Alw'] = df_mu['FREQUENTLY'] + df_mu['ALWAYS']\n",
    "df_mu.drop(columns=['NEVER', 'RARELY', 'SOMETIMES', 'FREQUENTLY', 'ALWAYS'], inplace=True)\n",
    "df_mu.head(3)"
   ]
  },
  {
   "cell_type": "code",
   "execution_count": 723,
   "metadata": {},
   "outputs": [],
   "source": [
    "# Merge with main df\n",
    "dfm3 = pd.merge(left=dfm2, right=df_mu, on='fips', how='inner', left_index=True)\n",
    "dfm3.reset_index(inplace=True, drop=True)"
   ]
  },
  {
   "cell_type": "code",
   "execution_count": 725,
   "metadata": {},
   "outputs": [
    {
     "data": {
      "text/html": [
       "<div>\n",
       "<style scoped>\n",
       "    .dataframe tbody tr th:only-of-type {\n",
       "        vertical-align: middle;\n",
       "    }\n",
       "\n",
       "    .dataframe tbody tr th {\n",
       "        vertical-align: top;\n",
       "    }\n",
       "\n",
       "    .dataframe thead th {\n",
       "        text-align: right;\n",
       "    }\n",
       "</style>\n",
       "<table border=\"1\" class=\"dataframe\">\n",
       "  <thead>\n",
       "    <tr style=\"text-align: right;\">\n",
       "      <th></th>\n",
       "      <th>fips</th>\n",
       "      <th>county</th>\n",
       "      <th>state</th>\n",
       "      <th>new_cases_m2w</th>\n",
       "      <th>POPULATION</th>\n",
       "      <th>new_cases_m2wN</th>\n",
       "      <th>Freq_Alw</th>\n",
       "    </tr>\n",
       "  </thead>\n",
       "  <tbody>\n",
       "    <tr>\n",
       "      <th>0</th>\n",
       "      <td>53061</td>\n",
       "      <td>Snohomish</td>\n",
       "      <td>Washington</td>\n",
       "      <td>64.692308</td>\n",
       "      <td>822083</td>\n",
       "      <td>7.869316</td>\n",
       "      <td>0.912</td>\n",
       "    </tr>\n",
       "    <tr>\n",
       "      <th>1</th>\n",
       "      <td>17031</td>\n",
       "      <td>Cook</td>\n",
       "      <td>Illinois</td>\n",
       "      <td>521.461538</td>\n",
       "      <td>5150233</td>\n",
       "      <td>10.125009</td>\n",
       "      <td>0.884</td>\n",
       "    </tr>\n",
       "    <tr>\n",
       "      <th>2</th>\n",
       "      <td>6059</td>\n",
       "      <td>Orange</td>\n",
       "      <td>California</td>\n",
       "      <td>600.153846</td>\n",
       "      <td>3175692</td>\n",
       "      <td>18.898364</td>\n",
       "      <td>0.910</td>\n",
       "    </tr>\n",
       "    <tr>\n",
       "      <th>3</th>\n",
       "      <td>4013</td>\n",
       "      <td>Maricopa</td>\n",
       "      <td>Arizona</td>\n",
       "      <td>1920.230769</td>\n",
       "      <td>4485414</td>\n",
       "      <td>42.810558</td>\n",
       "      <td>0.892</td>\n",
       "    </tr>\n",
       "    <tr>\n",
       "      <th>4</th>\n",
       "      <td>6037</td>\n",
       "      <td>Los Angeles</td>\n",
       "      <td>California</td>\n",
       "      <td>2741.000000</td>\n",
       "      <td>10039107</td>\n",
       "      <td>27.303225</td>\n",
       "      <td>0.917</td>\n",
       "    </tr>\n",
       "    <tr>\n",
       "      <th>...</th>\n",
       "      <td>...</td>\n",
       "      <td>...</td>\n",
       "      <td>...</td>\n",
       "      <td>...</td>\n",
       "      <td>...</td>\n",
       "      <td>...</td>\n",
       "      <td>...</td>\n",
       "    </tr>\n",
       "    <tr>\n",
       "      <th>3099</th>\n",
       "      <td>30019</td>\n",
       "      <td>Daniels</td>\n",
       "      <td>Montana</td>\n",
       "      <td>0.000000</td>\n",
       "      <td>1690</td>\n",
       "      <td>0.000000</td>\n",
       "      <td>0.398</td>\n",
       "    </tr>\n",
       "    <tr>\n",
       "      <th>3100</th>\n",
       "      <td>31183</td>\n",
       "      <td>Wheeler</td>\n",
       "      <td>Nebraska</td>\n",
       "      <td>0.000000</td>\n",
       "      <td>783</td>\n",
       "      <td>0.000000</td>\n",
       "      <td>0.600</td>\n",
       "    </tr>\n",
       "    <tr>\n",
       "      <th>3101</th>\n",
       "      <td>54017</td>\n",
       "      <td>Doddridge</td>\n",
       "      <td>West Virginia</td>\n",
       "      <td>0.333333</td>\n",
       "      <td>8448</td>\n",
       "      <td>3.945707</td>\n",
       "      <td>0.727</td>\n",
       "    </tr>\n",
       "    <tr>\n",
       "      <th>3102</th>\n",
       "      <td>49055</td>\n",
       "      <td>Wayne</td>\n",
       "      <td>Utah</td>\n",
       "      <td>0.000000</td>\n",
       "      <td>2711</td>\n",
       "      <td>0.000000</td>\n",
       "      <td>0.689</td>\n",
       "    </tr>\n",
       "    <tr>\n",
       "      <th>3103</th>\n",
       "      <td>38001</td>\n",
       "      <td>Adams</td>\n",
       "      <td>North Dakota</td>\n",
       "      <td>NaN</td>\n",
       "      <td>2216</td>\n",
       "      <td>NaN</td>\n",
       "      <td>0.426</td>\n",
       "    </tr>\n",
       "  </tbody>\n",
       "</table>\n",
       "<p>3104 rows × 7 columns</p>\n",
       "</div>"
      ],
      "text/plain": [
       "       fips       county          state  new_cases_m2w  POPULATION  \\\n",
       "0     53061    Snohomish     Washington      64.692308      822083   \n",
       "1     17031         Cook       Illinois     521.461538     5150233   \n",
       "2      6059       Orange     California     600.153846     3175692   \n",
       "3      4013     Maricopa        Arizona    1920.230769     4485414   \n",
       "4      6037  Los Angeles     California    2741.000000    10039107   \n",
       "...     ...          ...            ...            ...         ...   \n",
       "3099  30019      Daniels        Montana       0.000000        1690   \n",
       "3100  31183      Wheeler       Nebraska       0.000000         783   \n",
       "3101  54017    Doddridge  West Virginia       0.333333        8448   \n",
       "3102  49055        Wayne           Utah       0.000000        2711   \n",
       "3103  38001        Adams   North Dakota            NaN        2216   \n",
       "\n",
       "      new_cases_m2wN  Freq_Alw  \n",
       "0           7.869316     0.912  \n",
       "1          10.125009     0.884  \n",
       "2          18.898364     0.910  \n",
       "3          42.810558     0.892  \n",
       "4          27.303225     0.917  \n",
       "...              ...       ...  \n",
       "3099        0.000000     0.398  \n",
       "3100        0.000000     0.600  \n",
       "3101        3.945707     0.727  \n",
       "3102        0.000000     0.689  \n",
       "3103             NaN     0.426  \n",
       "\n",
       "[3104 rows x 7 columns]"
      ]
     },
     "execution_count": 725,
     "metadata": {},
     "output_type": "execute_result"
    }
   ],
   "source": [
    "# Complete df for mask use study\n",
    "dfm3"
   ]
  },
  {
   "cell_type": "code",
   "execution_count": null,
   "metadata": {},
   "outputs": [],
   "source": []
  },
  {
   "cell_type": "code",
   "execution_count": null,
   "metadata": {},
   "outputs": [],
   "source": []
  },
  {
   "cell_type": "code",
   "execution_count": null,
   "metadata": {},
   "outputs": [],
   "source": []
  },
  {
   "cell_type": "code",
   "execution_count": null,
   "metadata": {},
   "outputs": [],
   "source": []
  },
  {
   "cell_type": "code",
   "execution_count": null,
   "metadata": {},
   "outputs": [],
   "source": []
  },
  {
   "cell_type": "code",
   "execution_count": null,
   "metadata": {},
   "outputs": [],
   "source": []
  },
  {
   "cell_type": "code",
   "execution_count": null,
   "metadata": {},
   "outputs": [],
   "source": []
  },
  {
   "cell_type": "code",
   "execution_count": null,
   "metadata": {},
   "outputs": [],
   "source": []
  },
  {
   "cell_type": "code",
   "execution_count": null,
   "metadata": {},
   "outputs": [],
   "source": []
  },
  {
   "cell_type": "code",
   "execution_count": null,
   "metadata": {},
   "outputs": [],
   "source": []
  },
  {
   "cell_type": "code",
   "execution_count": null,
   "metadata": {},
   "outputs": [],
   "source": []
  },
  {
   "cell_type": "code",
   "execution_count": null,
   "metadata": {},
   "outputs": [],
   "source": []
  },
  {
   "cell_type": "code",
   "execution_count": null,
   "metadata": {},
   "outputs": [],
   "source": []
  },
  {
   "cell_type": "code",
   "execution_count": null,
   "metadata": {},
   "outputs": [],
   "source": []
  },
  {
   "cell_type": "code",
   "execution_count": null,
   "metadata": {},
   "outputs": [],
   "source": []
  },
  {
   "cell_type": "markdown",
   "metadata": {},
   "source": [
    "## Sates ranked per number of cases"
   ]
  },
  {
   "cell_type": "code",
   "execution_count": null,
   "metadata": {},
   "outputs": [],
   "source": [
    "last_timestamp = df.index.sort_values()[-1]"
   ]
  },
  {
   "cell_type": "code",
   "execution_count": null,
   "metadata": {
    "scrolled": true
   },
   "outputs": [],
   "source": [
    "\n",
    "df[last_timestamp:].sort_values(by='cases',ascending=False).head(10)"
   ]
  },
  {
   "cell_type": "code",
   "execution_count": null,
   "metadata": {},
   "outputs": [],
   "source": [
    "df_summary = df.loc[last_timestamp:, ['cases', 'deaths']].sum().copy()\n",
    "df_summary.index.values"
   ]
  },
  {
   "cell_type": "code",
   "execution_count": null,
   "metadata": {},
   "outputs": [],
   "source": [
    "fig, ax = plt.subplots()\n",
    "rects = ax.bar(x=[0, 0.3], height=df_summary.values, width=0.2, tick_label=df_summary.index.values)\n",
    "ax.get_yaxis().set_major_formatter(matplotlib.ticker.FuncFormatter(lambda x,p: format(int(x),',')))\n",
    "\n",
    "\n",
    "def autolabel(rects):\n",
    "    \"\"\"Attach a text label above each bar in *rects*, displaying its height.\"\"\"\n",
    "    for rect in rects:\n",
    "        height = rect.get_height()\n",
    "        ax.annotate('{}'.format(height),\n",
    "                    xy=(rect.get_x() + rect.get_width() / 2, height),\n",
    "                    xytext=(0, 3),  # 3 points vertical offset\n",
    "                    textcoords=\"offset points\",\n",
    "                    ha='center', va='bottom')\n",
    "autolabel(rects)\n",
    "\n",
    "fig.tight_layout()\n"
   ]
  },
  {
   "cell_type": "markdown",
   "metadata": {},
   "source": [
    "### Mortality rate"
   ]
  },
  {
   "cell_type": "code",
   "execution_count": null,
   "metadata": {},
   "outputs": [],
   "source": [
    "df_summary['deaths'] / df_summary['cases']"
   ]
  },
  {
   "cell_type": "markdown",
   "metadata": {},
   "source": [
    "## Number of New Cases per day (for a list of states)"
   ]
  },
  {
   "cell_type": "code",
   "execution_count": null,
   "metadata": {},
   "outputs": [],
   "source": [
    "states_list = [\"New York\",\"New Jersey\",\"California\",\"Michigan\",\"Massachusetts\",\"Florida\",\"Washington\",\"Illinois\",\"Pennsylvania\",\"Louisiana\", \"Texas\"]"
   ]
  },
  {
   "cell_type": "code",
   "execution_count": null,
   "metadata": {},
   "outputs": [],
   "source": [
    "df_states_list = []"
   ]
  },
  {
   "cell_type": "code",
   "execution_count": null,
   "metadata": {},
   "outputs": [],
   "source": [
    "# Iterate over all states, create the df and append to the list\n",
    "for i,state in enumerate(states_list):\n",
    "    # create a local copy of the df\n",
    "    df_state = df[df.state == state].copy()\n",
    "    # calculate the number of new cases per day\n",
    "    df_state['new cases'] = df_state['cases'] - df_state['cases'].shift(1)\n",
    "    df_state.fillna(0,inplace=True)\n",
    "    # calculate SMA\n",
    "    df_state['SMA'] = ( df_state['new cases'] + df_state['new cases'].shift(1) + df_state['new cases'].shift(2) )*1/3\n",
    "    # append the df of that state to the list\n",
    "    df_states_list.append(df_state)"
   ]
  },
  {
   "cell_type": "code",
   "execution_count": null,
   "metadata": {},
   "outputs": [],
   "source": [
    "# df_states_list[0].tail()"
   ]
  },
  {
   "cell_type": "code",
   "execution_count": null,
   "metadata": {},
   "outputs": [],
   "source": []
  },
  {
   "cell_type": "markdown",
   "metadata": {},
   "source": [
    "### PLOT OF NEW CASES (for the 4 most impacted states)"
   ]
  },
  {
   "cell_type": "code",
   "execution_count": null,
   "metadata": {},
   "outputs": [],
   "source": [
    "def my_new_cases_plotter(df_list,states_list):\n",
    "\n",
    "    nb_columns_fig = 2\n",
    "    nb_rows_fig = 6\n",
    "#     If more than 4 grapghs, extend the rows\n",
    "#     if len(df_list) > 4:\n",
    "#         nb_rows_fig = int((np.ceil(len(df_list) / nb_columns_fig)))\n",
    "    \n",
    "    fig, ax_arr = plt.subplots(nb_rows_fig, nb_columns_fig)  # create a figure with a 'rows x columns' grid of axes\n",
    "    fig.set_size_inches(16,24)\n",
    "    fig.suptitle(\"New cases registered per day\")\n",
    "    \n",
    "    for df_index in range(len(df_list)):  # iterate over all the data frames to plot\n",
    "    \n",
    "        i_fig = int((np.floor(df_index / nb_columns_fig)))  # row position of the axes on that given figure\n",
    "        j_fig = int((df_index % nb_columns_fig))  # column position of the axes on that given figure\n",
    "\n",
    "        df = df_list[df_index].loc['20200301':]  # df to plot at that position\n",
    "\n",
    "        ax_arr[i_fig,j_fig].bar(x=df['new cases'].index,height=df['new cases'],color=\"#900C3F\")\n",
    "        ax_arr[i_fig,j_fig].plot(df['new cases'].index,df['SMA'],color=\"#FFC300\")\n",
    "\n",
    "        ax_arr[i_fig,j_fig].xaxis.set_major_locator(WeekdayLocator(MONDAY))\n",
    "#         ax_arr[i_fig,j_fig].xaxis.set_minor_locator(DayLocator())\n",
    "        ax_arr[i_fig,j_fig].xaxis.set_major_formatter(DateFormatter('%d'))\n",
    "#         ax_arr[i_fig,j_fig].xaxis.set_minor_formatter(DateFormatter('%d'))\n",
    "        ax_arr[i_fig,j_fig].set_title(states_list[df_index])\n",
    "    return fig\n",
    "        "
   ]
  },
  {
   "cell_type": "code",
   "execution_count": null,
   "metadata": {},
   "outputs": [],
   "source": [
    "fig = my_new_cases_plotter(df_states_list,states_list)"
   ]
  },
  {
   "cell_type": "code",
   "execution_count": null,
   "metadata": {},
   "outputs": [],
   "source": [
    "# fig.savefig('covid_per_US_state.png')"
   ]
  },
  {
   "cell_type": "code",
   "execution_count": null,
   "metadata": {},
   "outputs": [],
   "source": []
  },
  {
   "cell_type": "code",
   "execution_count": null,
   "metadata": {},
   "outputs": [],
   "source": []
  },
  {
   "cell_type": "code",
   "execution_count": null,
   "metadata": {},
   "outputs": [],
   "source": []
  },
  {
   "cell_type": "code",
   "execution_count": null,
   "metadata": {},
   "outputs": [],
   "source": []
  },
  {
   "cell_type": "code",
   "execution_count": null,
   "metadata": {},
   "outputs": [],
   "source": []
  },
  {
   "cell_type": "code",
   "execution_count": null,
   "metadata": {},
   "outputs": [],
   "source": []
  },
  {
   "cell_type": "code",
   "execution_count": null,
   "metadata": {},
   "outputs": [],
   "source": []
  }
 ],
 "metadata": {
  "kernelspec": {
   "display_name": "Python 3",
   "language": "python",
   "name": "python3"
  },
  "language_info": {
   "codemirror_mode": {
    "name": "ipython",
    "version": 3
   },
   "file_extension": ".py",
   "mimetype": "text/x-python",
   "name": "python",
   "nbconvert_exporter": "python",
   "pygments_lexer": "ipython3",
   "version": "3.7.6"
  },
  "toc": {
   "base_numbering": 1,
   "nav_menu": {},
   "number_sections": true,
   "sideBar": true,
   "skip_h1_title": false,
   "title_cell": "Table of Contents",
   "title_sidebar": "Contents",
   "toc_cell": false,
   "toc_position": {},
   "toc_section_display": true,
   "toc_window_display": false
  },
  "varInspector": {
   "cols": {
    "lenName": 16,
    "lenType": 16,
    "lenVar": 40
   },
   "kernels_config": {
    "python": {
     "delete_cmd_postfix": "",
     "delete_cmd_prefix": "del ",
     "library": "var_list.py",
     "varRefreshCmd": "print(var_dic_list())"
    },
    "r": {
     "delete_cmd_postfix": ") ",
     "delete_cmd_prefix": "rm(",
     "library": "var_list.r",
     "varRefreshCmd": "cat(var_dic_list()) "
    }
   },
   "types_to_exclude": [
    "module",
    "function",
    "builtin_function_or_method",
    "instance",
    "_Feature"
   ],
   "window_display": false
  }
 },
 "nbformat": 4,
 "nbformat_minor": 4
}
